{
  "nbformat": 4,
  "nbformat_minor": 0,
  "metadata": {
    "colab": {
      "name": "TSF Task 1.ipynb",
      "provenance": [],
      "collapsed_sections": [],
      "authorship_tag": "ABX9TyOQt5tWXYB0Cijbe2LnznLO",
      "include_colab_link": true
    },
    "kernelspec": {
      "name": "python3",
      "display_name": "Python 3"
    }
  },
  "cells": [
    {
      "cell_type": "markdown",
      "metadata": {
        "id": "view-in-github",
        "colab_type": "text"
      },
      "source": [
        "<a href=\"https://colab.research.google.com/github/ShreyasShingare/TSF-Task1/blob/main/TSF_Task_1.ipynb\" target=\"_parent\"><img src=\"https://colab.research.google.com/assets/colab-badge.svg\" alt=\"Open In Colab\"/></a>"
      ]
    },
    {
      "cell_type": "markdown",
      "metadata": {
        "id": "5HhKW_YD0pIc"
      },
      "source": [
        "Name : Shreyas Shingare"
      ]
    },
    {
      "cell_type": "markdown",
      "metadata": {
        "id": "JyoJ6nbY1sBQ"
      },
      "source": [
        "Task : Predict the percentage of an student based on the no. of study hours."
      ]
    },
    {
      "cell_type": "code",
      "metadata": {
        "id": "YQrmUEf8yrxI"
      },
      "source": [
        "# Import all libraries required\r\n",
        "import pandas as pd\r\n",
        "import numpy as np  \r\n",
        "import matplotlib.pyplot as plt\r\n",
        "from sklearn.linear_model import LinearRegression "
      ],
      "execution_count": 36,
      "outputs": []
    },
    {
      "cell_type": "code",
      "metadata": {
        "colab": {
          "base_uri": "https://localhost:8080/"
        },
        "id": "vVP99zlb2Po1",
        "outputId": "d6377472-b51b-4596-dc05-2810526400a9"
      },
      "source": [
        "# get data from link\r\n",
        "\r\n",
        "url = \"http://bit.ly/w-data\"    # we will provide link of the data to fetch it online\r\n",
        "data = pd.read_csv(url)         # reading data in data variable\r\n",
        "print(\"Data is imported...\")\r\n",
        "\r\n",
        "#alternatively, a local csv file containing the data can also be used, by giving path of the file"
      ],
      "execution_count": 37,
      "outputs": [
        {
          "output_type": "stream",
          "text": [
            "Data is imported...\n"
          ],
          "name": "stdout"
        }
      ]
    },
    {
      "cell_type": "code",
      "metadata": {
        "colab": {
          "base_uri": "https://localhost:8080/",
          "height": 297
        },
        "id": "rGVVr4bL3fsU",
        "outputId": "da7fa6cf-2ecb-4643-9f52-ce94ac95e97e"
      },
      "source": [
        "#we will check the summary of the data for an overview\r\n",
        "\r\n",
        "data.describe()\r\n"
      ],
      "execution_count": 38,
      "outputs": [
        {
          "output_type": "execute_result",
          "data": {
            "text/html": [
              "<div>\n",
              "<style scoped>\n",
              "    .dataframe tbody tr th:only-of-type {\n",
              "        vertical-align: middle;\n",
              "    }\n",
              "\n",
              "    .dataframe tbody tr th {\n",
              "        vertical-align: top;\n",
              "    }\n",
              "\n",
              "    .dataframe thead th {\n",
              "        text-align: right;\n",
              "    }\n",
              "</style>\n",
              "<table border=\"1\" class=\"dataframe\">\n",
              "  <thead>\n",
              "    <tr style=\"text-align: right;\">\n",
              "      <th></th>\n",
              "      <th>Hours</th>\n",
              "      <th>Scores</th>\n",
              "    </tr>\n",
              "  </thead>\n",
              "  <tbody>\n",
              "    <tr>\n",
              "      <th>count</th>\n",
              "      <td>25.000000</td>\n",
              "      <td>25.000000</td>\n",
              "    </tr>\n",
              "    <tr>\n",
              "      <th>mean</th>\n",
              "      <td>5.012000</td>\n",
              "      <td>51.480000</td>\n",
              "    </tr>\n",
              "    <tr>\n",
              "      <th>std</th>\n",
              "      <td>2.525094</td>\n",
              "      <td>25.286887</td>\n",
              "    </tr>\n",
              "    <tr>\n",
              "      <th>min</th>\n",
              "      <td>1.100000</td>\n",
              "      <td>17.000000</td>\n",
              "    </tr>\n",
              "    <tr>\n",
              "      <th>25%</th>\n",
              "      <td>2.700000</td>\n",
              "      <td>30.000000</td>\n",
              "    </tr>\n",
              "    <tr>\n",
              "      <th>50%</th>\n",
              "      <td>4.800000</td>\n",
              "      <td>47.000000</td>\n",
              "    </tr>\n",
              "    <tr>\n",
              "      <th>75%</th>\n",
              "      <td>7.400000</td>\n",
              "      <td>75.000000</td>\n",
              "    </tr>\n",
              "    <tr>\n",
              "      <th>max</th>\n",
              "      <td>9.200000</td>\n",
              "      <td>95.000000</td>\n",
              "    </tr>\n",
              "  </tbody>\n",
              "</table>\n",
              "</div>"
            ],
            "text/plain": [
              "           Hours     Scores\n",
              "count  25.000000  25.000000\n",
              "mean    5.012000  51.480000\n",
              "std     2.525094  25.286887\n",
              "min     1.100000  17.000000\n",
              "25%     2.700000  30.000000\n",
              "50%     4.800000  47.000000\n",
              "75%     7.400000  75.000000\n",
              "max     9.200000  95.000000"
            ]
          },
          "metadata": {
            "tags": []
          },
          "execution_count": 38
        }
      ]
    },
    {
      "cell_type": "code",
      "metadata": {
        "id": "QPmWyLff37oO"
      },
      "source": [
        "# as we can see, there are two columns in the data, Hours and Scores.\r\n",
        "# The mean value of Hours is 5.012 , and of Scores is 51.48\r\n",
        "# The maximum value of Hours is 9.2 hours and maximum Scores is 95\r\n",
        "# The minimum value of Hours is 1.1 hours and minimum value of Scores is 17"
      ],
      "execution_count": 4,
      "outputs": []
    },
    {
      "cell_type": "code",
      "metadata": {
        "colab": {
          "base_uri": "https://localhost:8080/",
          "height": 204
        },
        "id": "_yDLV0Ka5JuD",
        "outputId": "042e36f7-81ed-46a1-ab23-f4025bf1aeb7"
      },
      "source": [
        "# We will take a look at the data itself\r\n",
        "\r\n",
        "data.head()"
      ],
      "execution_count": 40,
      "outputs": [
        {
          "output_type": "execute_result",
          "data": {
            "text/html": [
              "<div>\n",
              "<style scoped>\n",
              "    .dataframe tbody tr th:only-of-type {\n",
              "        vertical-align: middle;\n",
              "    }\n",
              "\n",
              "    .dataframe tbody tr th {\n",
              "        vertical-align: top;\n",
              "    }\n",
              "\n",
              "    .dataframe thead th {\n",
              "        text-align: right;\n",
              "    }\n",
              "</style>\n",
              "<table border=\"1\" class=\"dataframe\">\n",
              "  <thead>\n",
              "    <tr style=\"text-align: right;\">\n",
              "      <th></th>\n",
              "      <th>Hours</th>\n",
              "      <th>Scores</th>\n",
              "    </tr>\n",
              "  </thead>\n",
              "  <tbody>\n",
              "    <tr>\n",
              "      <th>0</th>\n",
              "      <td>2.5</td>\n",
              "      <td>21</td>\n",
              "    </tr>\n",
              "    <tr>\n",
              "      <th>1</th>\n",
              "      <td>5.1</td>\n",
              "      <td>47</td>\n",
              "    </tr>\n",
              "    <tr>\n",
              "      <th>2</th>\n",
              "      <td>3.2</td>\n",
              "      <td>27</td>\n",
              "    </tr>\n",
              "    <tr>\n",
              "      <th>3</th>\n",
              "      <td>8.5</td>\n",
              "      <td>75</td>\n",
              "    </tr>\n",
              "    <tr>\n",
              "      <th>4</th>\n",
              "      <td>3.5</td>\n",
              "      <td>30</td>\n",
              "    </tr>\n",
              "  </tbody>\n",
              "</table>\n",
              "</div>"
            ],
            "text/plain": [
              "   Hours  Scores\n",
              "0    2.5      21\n",
              "1    5.1      47\n",
              "2    3.2      27\n",
              "3    8.5      75\n",
              "4    3.5      30"
            ]
          },
          "metadata": {
            "tags": []
          },
          "execution_count": 40
        }
      ]
    },
    {
      "cell_type": "code",
      "metadata": {
        "colab": {
          "base_uri": "https://localhost:8080/",
          "height": 295
        },
        "id": "HF8n93AR5Upz",
        "outputId": "dbd16d2f-5b39-401e-ff57-2e2718e4a109"
      },
      "source": [
        "# We will plot the data using matplotlib, to see if there is any relation between the two columns\r\n",
        "\r\n",
        "data.plot(x='Hours', y='Scores', style='s')    # 's' gives us square markers, other types of markers can be referred from matplotlib documentation\r\n",
        "plt.title('Hours vs Scores')  \r\n",
        "plt.xlabel('Hours Studied')  \r\n",
        "plt.ylabel('Score in percentage')  \r\n",
        "plt.show()    "
      ],
      "execution_count": 9,
      "outputs": [
        {
          "output_type": "display_data",
          "data": {
            "image/png": "[encoded data removed]",
            "text/plain": [
              "<Figure size 432x288 with 1 Axes>"
            ]
          },
          "metadata": {
            "tags": [],
            "needs_background": "light"
          }
        }
      ]
    },
    {
      "cell_type": "code",
      "metadata": {
        "id": "oVaf0j_g7q4-"
      },
      "source": [
        "# As we can see, there is a linear relationship between the two columns. As the number of study hours increases, the scores increases"
      ],
      "execution_count": 10,
      "outputs": []
    },
    {
      "cell_type": "code",
      "metadata": {
        "id": "bcYntx_i72An"
      },
      "source": [
        "# We will split the data into train and test data for prediction\r\n",
        "\r\n",
        "x = data.iloc[:, :-1].values  # here only first column is selected into x variable (all rows and 1st column)\r\n",
        "\r\n",
        "y = data.iloc[:, 1].values    # here only 2nd column is selected into y variable (all rows and 2nd column)\r\n",
        "\r\n",
        "from sklearn.model_selection import train_test_split  # here we are importing train test split function from scikit learn library for splitting our data\r\n",
        "\r\n",
        "x_train, x_test, y_train, y_test = train_test_split(x, y, test_size=0.2, random_state=0)   # test size=0.2 gives us 20% of the data as test data, \r\n",
        "                                                                                           # and remaining as training data.\r\n",
        "                                                                                           # random state=0 means the data will not be shuffled before splitting"
      ],
      "execution_count": 12,
      "outputs": []
    },
    {
      "cell_type": "markdown",
      "metadata": {
        "id": "S6droLluDmDO"
      },
      "source": [
        "# Training"
      ]
    },
    {
      "cell_type": "code",
      "metadata": {
        "colab": {
          "base_uri": "https://localhost:8080/"
        },
        "id": "OUlq_UhP-LC6",
        "outputId": "7651145e-46ab-4bd7-b519-fe6dde226b15"
      },
      "source": [
        "# we have splitted the data, now we have to train it using linear regression model\r\n",
        "\r\n",
        "from sklearn.linear_model import LinearRegression    # we will import LinearRegression model from scikit learn \r\n",
        "linearRegression_model = LinearRegression()          \r\n",
        "linearRegression_model.fit(x_train, y_train)         # here we will train the model on our data\r\n",
        "\r\n",
        "print(\"Model is trained...\")"
      ],
      "execution_count": 13,
      "outputs": [
        {
          "output_type": "stream",
          "text": [
            "Model is trained...\n"
          ],
          "name": "stdout"
        }
      ]
    },
    {
      "cell_type": "code",
      "metadata": {
        "colab": {
          "base_uri": "https://localhost:8080/",
          "height": 265
        },
        "id": "NZ7-BKyw_Bvb",
        "outputId": "448a17ad-f6f5-4638-b8e5-d58fc14e04b1"
      },
      "source": [
        "# we will plot the regression line, to be more clear about the trend in the data\r\n",
        "\r\n",
        "line = linearRegression_model.coef_*x+linearRegression_model.intercept_      # this gives us the regression line\r\n",
        "\r\n",
        "# Plotting for the test data\r\n",
        "plt.scatter(x, y, color = 'blue')         # this gives us the plot of the two columns hours vs scores\r\n",
        "plt.plot(x, line, color = 'red');        # this will combine the two plots, 'x' vs 'y' and regression line plot\r\n",
        "plt.show()"
      ],
      "execution_count": 22,
      "outputs": [
        {
          "output_type": "display_data",
          "data": {
            "image/png": "[encoded data removed]",
            "text/plain": [
              "<Figure size 432x288 with 1 Axes>"
            ]
          },
          "metadata": {
            "tags": [],
            "needs_background": "light"
          }
        }
      ]
    },
    {
      "cell_type": "code",
      "metadata": {
        "id": "HOMtMS2XDb-e"
      },
      "source": [
        ""
      ],
      "execution_count": null,
      "outputs": []
    },
    {
      "cell_type": "markdown",
      "metadata": {
        "id": "wlQfrmsWDeo9"
      },
      "source": [
        "# Predicting"
      ]
    },
    {
      "cell_type": "code",
      "metadata": {
        "colab": {
          "base_uri": "https://localhost:8080/"
        },
        "id": "yhDS67eRDkP9",
        "outputId": "9c102c1e-3155-49d2-f597-8ca83245a7cb"
      },
      "source": [
        "# we have to make prediction using the test data we splitted earlier\r\n",
        "\r\n",
        "y_pred = linearRegression_model.predict(x_test) # Predicting the scores\r\n",
        "actual_prediction = pd.DataFrame({'Actual': y_test, 'Predicted': y_pred})    # we will compare the actual results with the ones predicted by our model\r\n",
        "actual_prediction\r\n",
        "\r\n",
        "print(\"model accuracy = \",linearRegression_model.score(x_test, y_test))        # printing the model accuracy on test data\r\n",
        "\r\n"
      ],
      "execution_count": 31,
      "outputs": [
        {
          "output_type": "stream",
          "text": [
            "model accuracy =  0.9454906892105354\n"
          ],
          "name": "stdout"
        }
      ]
    },
    {
      "cell_type": "code",
      "metadata": {
        "id": "LZC1y0ibFO71"
      },
      "source": [
        "# as we can see, the predicted values are close to the actual ones abd accuracy is 94.5 %"
      ],
      "execution_count": null,
      "outputs": []
    },
    {
      "cell_type": "markdown",
      "metadata": {
        "id": "nvppRu2hKJLT"
      },
      "source": [
        "# What will be predicted score if a student studies for 9.25 hrs/ day?"
      ]
    },
    {
      "cell_type": "code",
      "metadata": {
        "colab": {
          "base_uri": "https://localhost:8080/"
        },
        "id": "2c_yDuluKAxN",
        "outputId": "483b4981-5858-4551-bbc8-7829ac9f1a14"
      },
      "source": [
        "# we will predict the score of the student, if he/she studies for 9.25 hours per day\r\n",
        "\r\n",
        "print(\"Given 9.25 hours per day of study,\")\r\n",
        "print(\"Predicted Score = \", linearRegression_model.predict([[9.25]]))"
      ],
      "execution_count": 34,
      "outputs": [
        {
          "output_type": "stream",
          "text": [
            "Given 9.25 hours per day of study,\n",
            "Predicted Score =  [93.69173249]\n"
          ],
          "name": "stdout"
        }
      ]
    },
    {
      "cell_type": "code",
      "metadata": {
        "id": "yL3qytmJLXzj"
      },
      "source": [
        "# as we can see, the predicted score for a student who studies for 9.25 hours per day is 93.6917 %"
      ],
      "execution_count": null,
      "outputs": []
    }
  ]
}